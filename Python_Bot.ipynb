{
  "nbformat": 4,
  "nbformat_minor": 0,
  "metadata": {
    "colab": {
      "provenance": [],
      "authorship_tag": "ABX9TyPNKQGe1HTqog/ET6qiCUEq",
      "include_colab_link": true
    },
    "kernelspec": {
      "name": "python3",
      "display_name": "Python 3"
    },
    "language_info": {
      "name": "python"
    }
  },
  "cells": [
    {
      "cell_type": "markdown",
      "metadata": {
        "id": "view-in-github",
        "colab_type": "text"
      },
      "source": [
        "<a href=\"https://colab.research.google.com/github/fmx143/Crowdair/blob/master/Python_Bot.ipynb\" target=\"_parent\"><img src=\"https://colab.research.google.com/assets/colab-badge.svg\" alt=\"Open In Colab\"/></a>"
      ]
    },
    {
      "cell_type": "code",
      "execution_count": null,
      "metadata": {
        "id": "MuatRHYZdmS1"
      },
      "outputs": [],
      "source": []
    },
    {
      "cell_type": "markdown",
      "source": [
        "Package installation\n"
      ],
      "metadata": {
        "id": "iFSMlb0OdrdM"
      }
    },
    {
      "cell_type": "code",
      "source": [
        "%pip install pandas\n",
        "%pip install ta\n",
        "%pip install matplot\n",
        "%pip install talib"
      ],
      "metadata": {
        "id": "Ck3GJoJoduwi"
      },
      "execution_count": null,
      "outputs": []
    }
  ]
}